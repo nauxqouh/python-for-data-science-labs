{
  "cells": [
    {
      "cell_type": "markdown",
      "id": "odYKf7-2ZWH8",
      "metadata": {
        "id": "odYKf7-2ZWH8"
      },
      "source": [
        "# MINI-TEST"
      ]
    },
    {
      "cell_type": "markdown",
      "id": "M89KHAzBVMa6",
      "metadata": {
        "id": "M89KHAzBVMa6"
      },
      "source": [
        "# Requirements"
      ]
    },
    {
      "cell_type": "markdown",
      "id": "e3b8f805-f6c1-4b67-a755-da96fff2917e",
      "metadata": {
        "id": "e3b8f805-f6c1-4b67-a755-da96fff2917e"
      },
      "source": [
        "# 1. Refractor script\n",
        "Bạn được giao nhiệm vụ cải tiến một hệ thống giỏ hàng trực tuyến. Đoạn mã hiện tại bao gồm nhiều hàm độc lập xử lý các tính năng khác nhau cho sản phẩm và giỏ hàng, nhưng nó chưa được tổ chức rõ ràng. Nhiệm vụ của bạn là tái cấu trúc đoạn mã này bằng cách sử dụng các lớp (class) để mã dễ bảo trì và dễ mở rộng."
      ]
    },
    {
      "cell_type": "markdown",
      "id": "5c234acb-582a-4d66-8a4a-6de07a9e7d10",
      "metadata": {
        "id": "5c234acb-582a-4d66-8a4a-6de07a9e7d10"
      },
      "source": [
        "## Mã ban đầu\n",
        "Dưới đây là đoạn mã hiện tại, bao gồm các hàm xử lý giảm giá, thuế, quản lý giỏ hàng, và kiểm tra hàng tồn kho. Mỗi sản phẩm là một từ điển (dictionary) với các thuộc tính như tên, giá, và số lượng hàng tồn kho."
      ]
    },
    {
      "cell_type": "code",
      "execution_count": null,
      "id": "473195b6-4990-4574-9bb4-4ce9d7f39a04",
      "metadata": {
        "id": "473195b6-4990-4574-9bb4-4ce9d7f39a04"
      },
      "outputs": [],
      "source": [
        "# Dữ liệu mẫu\n",
        "products = [\n",
        "    {'name': 'Book', 'price': 15.0, 'stock': 10},\n",
        "    {'name': 'Food', 'price': 8.0, 'stock': 20},\n",
        "    {'name': 'Gadget', 'price': 25.0, 'stock': 5}\n",
        "]\n",
        "\n",
        "# Các hàm hiện tại\n",
        "def apply_discount(product, discount):\n",
        "    return product['price'] * (1 - discount)\n",
        "\n",
        "def calculate_tax(product, tax_rate):\n",
        "    return product['price'] * tax_rate\n",
        "\n",
        "def calculate_total(cart):\n",
        "    total = 0\n",
        "    for item in cart:\n",
        "        total += item['price']\n",
        "    return total\n",
        "\n",
        "def add_product(cart, product):\n",
        "    cart.append(product)\n",
        "\n",
        "def remove_product(cart, product_name):\n",
        "    cart[:] = [p for p in cart if p['name'] != product_name]\n",
        "\n",
        "def list_products(cart):\n",
        "    for product in cart:\n",
        "        print(f\"{product['name']}: ${product['price']}\")\n",
        "\n",
        "def update_stock(product, amount):\n",
        "    product['stock'] += amount\n",
        "\n",
        "def is_in_stock(product):\n",
        "    return product['stock'] > 0\n",
        "\n",
        "def get_total_stock(products):\n",
        "    return sum(product['stock'] for product in products)\n"
      ]
    },
    {
      "cell_type": "markdown",
      "id": "586ba589-aa81-4f76-ab9f-77dfe56ef327",
      "metadata": {
        "id": "586ba589-aa81-4f76-ab9f-77dfe56ef327"
      },
      "source": [
        "## Yêu cầu\n",
        "\n",
        "Note: Với mỗi product mỗi khách hàng chỉ mua 1 item\n",
        "\n",
        "### 1. Tái cấu trúc mã: Sử dụng các lớp để tổ chức lại mã. (30%)\n",
        "\n",
        "* Product: Lớp này sẽ đại diện cho một sản phẩm và chứa các phương thức liên quan đến sản phẩm.\n",
        "* Cart: Lớp này sẽ quản lý các sản phẩm trong giỏ hàng và chứa các phương thức để thêm, xóa sản phẩm và tính tổng giá.\n",
        "\n",
        "### 2. Cập nhật mã (30%)\n",
        "Di chuyển các hàm hiện tại vào các lớp thích hợp và điều chỉnh lại mã để sử dụng các phương thức thay vì các hàm độc lập.\n",
        "\n",
        "### 3. Xây dựng ví dụ: Sau khi tổ chức lại mã, tạo một ví dụ tuỳ ý để hiển thị (15%)\n",
        "\n",
        "* Thêm sản phẩm vào giỏ hàng.\n",
        "* Tính tổng giá sau khi áp dụng thuế và giảm giá.\n",
        "* In danh sách sản phẩm trong giỏ hàng.\n"
      ]
    },
    {
      "cell_type": "markdown",
      "id": "df138a81-5f0b-4945-8785-060e4c30c15c",
      "metadata": {
        "id": "df138a81-5f0b-4945-8785-060e4c30c15c"
      },
      "source": [
        "# 2. Viết hàm từ flowchart sau (20%)\n",
        "Link ảnh: https://drive.google.com/file/d/1nLY0RH4GrA6OXEuDqhIOGMmVPikvmMkL/view?usp=sharing"
      ]
    },
    {
      "cell_type": "markdown",
      "id": "gYOD4-ReLUzS",
      "metadata": {
        "id": "gYOD4-ReLUzS"
      },
      "source": [
        "## Cho biết tác dụng của thuật toán trong flowchart (5%)"
      ]
    },
    {
      "cell_type": "markdown",
      "id": "a_Y6PS-9Zov5",
      "metadata": {
        "id": "a_Y6PS-9Zov5"
      },
      "source": [
        "\n",
        "---\n",
        "# ⭐ Assignment here\n"
      ]
    },
    {
      "cell_type": "markdown",
      "id": "a9DfjU6TaqQ2",
      "metadata": {
        "id": "a9DfjU6TaqQ2"
      },
      "source": [
        "# 1. Refractor script"
      ]
    },
    {
      "cell_type": "markdown",
      "id": "ZzmVU0nca2hl",
      "metadata": {
        "id": "ZzmVU0nca2hl"
      },
      "source": [
        "## 1.1. Refactoring:"
      ]
    },
    {
      "cell_type": "markdown",
      "id": "T8YUu9uWvWYN",
      "metadata": {
        "id": "T8YUu9uWvWYN"
      },
      "source": [
        "### class Product:\n",
        "- Thuộc tính:\n",
        "  * name: tên của sản phẩm\n",
        "  * price: giá của sản phẩm\n",
        "  * stock_quantity: số lượng sản phẩm tồn kho\n",
        "\n",
        "- Phương thức:\n",
        "  * apply_discount(discount): áp dụng giảm giá cho sản phẩm.\n",
        "  * calculate_tax(tax): tính thuế cho sản phẩm.\n",
        "  * update_stock(amount): cập nhật số lượng hàng tồn kho.\n",
        "  * is_in_stock(): kiểm tra hàng còn tồn kho hay không.\n"
      ]
    },
    {
      "cell_type": "code",
      "execution_count": null,
      "id": "nGBAk6fNZyCZ",
      "metadata": {
        "id": "nGBAk6fNZyCZ"
      },
      "outputs": [],
      "source": [
        "class Product:\n",
        "    def __init__(self, data_dict):\n",
        "        self.name = data_dict.get('name', None)\n",
        "        self.price = data_dict.get('price', 0.0)\n",
        "        self.stock_quantity = data_dict.get('stock', 0)\n",
        "\n",
        "    def apply_discount(self, discount):\n",
        "        return self.price * (1 - discount)\n",
        "\n",
        "    def calculate_tax(self, tax_rate):\n",
        "        return self.price * tax_rate\n",
        "\n",
        "    def update_stock(self, amount):\n",
        "        self.stock_quantity += amount\n",
        "\n",
        "    def is_in_stock(self):\n",
        "        return self.stock > 0"
      ]
    },
    {
      "cell_type": "markdown",
      "id": "FT9YkoVQxiaS",
      "metadata": {
        "id": "FT9YkoVQxiaS"
      },
      "source": [
        "### class Cart:\n",
        "- Thuộc tính:\n",
        "  * products: danh sách các sản phẩm có trong giỏ hàng\n",
        "\n",
        "- Phương thức:\n",
        "  * add_product(product): thêm sản phẩm vào giỏ hàng\n",
        "  * remove_product(product_name): xoá sản phẩm `product_name` có trong giỏ hàng.\n",
        "  * calculate_total_price(tax, discount): tính tổng giá sau thuế và giảm giá.\n",
        "  * list_products(): in danh sách các sản phẩm có trong giỏ hàng."
      ]
    },
    {
      "cell_type": "code",
      "execution_count": null,
      "id": "TAA0Pbz7f7d9",
      "metadata": {
        "id": "TAA0Pbz7f7d9"
      },
      "outputs": [],
      "source": [
        "class Cart:\n",
        "    def __init__(self):\n",
        "        self.products = []\n",
        "\n",
        "    def add_product(self, product):\n",
        "        self.products.append(product)\n",
        "\n",
        "    def remove_product(self, product_name):\n",
        "        self.products = [p for p in self.products if p.name != product_name]\n",
        "\n",
        "    def calculate_total_price(self, discount = 0, tax = 0):\n",
        "        total = 0\n",
        "        for product in self.products:\n",
        "            discount_price = product.apply_discount(discount)\n",
        "            new_price = discount_price + product.calculate_tax(tax)\n",
        "            total += new_price\n",
        "        return total\n",
        "\n",
        "    def list_products(self):\n",
        "        for product in self.products:\n",
        "            print(f\"{product.name}: ${product.price}\")"
      ]
    },
    {
      "cell_type": "markdown",
      "id": "KcNb7eJI2_aP",
      "metadata": {
        "id": "KcNb7eJI2_aP"
      },
      "source": [
        "### `get_total_stock` function\n",
        "\n",
        "Hàm `get_total_stock` có mục đích là để tính tổng stock của tất cả các product (không phải tổng stock của các product có trong card).\n",
        "\n",
        "Vì hàm này **không phù hợp** để nằm trong 2 class trên, do đó ta để riêng hàm ra ngoài tồn tại độc lập."
      ]
    },
    {
      "cell_type": "code",
      "execution_count": null,
      "id": "xeEO4ID25S85",
      "metadata": {
        "id": "xeEO4ID25S85"
      },
      "outputs": [],
      "source": [
        "def get_total_stock(products):\n",
        "    return sum(product.stock_quantity for product in products)"
      ]
    },
    {
      "cell_type": "markdown",
      "id": "d5GI_Q7t_zuR",
      "metadata": {
        "id": "d5GI_Q7t_zuR"
      },
      "source": [
        "## 1.2. Testing\n",
        "* Thêm sản phẩm vào giỏ hàng.\n",
        "* Tính tổng giá sau khi áp dụng thuế và giảm giá.\n",
        "* In danh sách sản phẩm trong giỏ hàng."
      ]
    },
    {
      "cell_type": "code",
      "execution_count": null,
      "id": "UMlvGQ7K_y9O",
      "metadata": {
        "colab": {
          "base_uri": "https://localhost:8080/"
        },
        "id": "UMlvGQ7K_y9O",
        "outputId": "ac477253-4bc0-45e0-b3cd-b33024c07e2e"
      },
      "outputs": [
        {
          "name": "stdout",
          "output_type": "stream",
          "text": [
            "Danh sách sản phẩm trong giỏ hàng:\n",
            "Book: $15.0\n",
            "Food: $8.0\n",
            "Tổng giá sau khi áp dụng thuế và giảm giá: $19.55\n"
          ]
        }
      ],
      "source": [
        "products_data = [\n",
        "    {'name': 'Book', 'price': 15.0, 'stock': 10},\n",
        "    {'name': 'Food', 'price': 8.0, 'stock': 20},\n",
        "    {'name': 'Gadget', 'price': 25.0, 'stock': 5}\n",
        "]\n",
        "\n",
        "products = [Product(data) for data in products_data]\n",
        "\n",
        "cart = Cart()\n",
        "\n",
        "# add product into cart\n",
        "cart.add_product(products[0])\n",
        "cart.add_product(products[1])\n",
        "\n",
        "# list all products in shopping cart\n",
        "print(f\"Danh sách sản phẩm trong giỏ hàng:\")\n",
        "cart.list_products()\n",
        "\n",
        "# calculate total price of list products in shopping cart after discount and tax\n",
        "total_price = cart.calculate_total_price(discount = 0.2, tax = 0.05)\n",
        "print(f\"Tổng giá sau khi áp dụng thuế và giảm giá: ${total_price}\")"
      ]
    },
    {
      "cell_type": "code",
      "execution_count": null,
      "id": "Rtx-YkVx3vL2",
      "metadata": {
        "colab": {
          "base_uri": "https://localhost:8080/"
        },
        "id": "Rtx-YkVx3vL2",
        "outputId": "5ff60b4d-4d33-4bc8-aeb7-f41210ff7020"
      },
      "outputs": [
        {
          "name": "stdout",
          "output_type": "stream",
          "text": [
            "Tổng số lượng sản phẩm tồn kho: 35.\n"
          ]
        }
      ],
      "source": [
        "# testing `get_total_stock`\n",
        "print(f\"Tổng số lượng sản phẩm tồn kho: {get_total_stock(products)}.\")"
      ]
    },
    {
      "cell_type": "markdown",
      "id": "JtUIvWwQrXup",
      "metadata": {
        "id": "JtUIvWwQrXup"
      },
      "source": [
        "# 2. Build function from Flowchart"
      ]
    },
    {
      "cell_type": "markdown",
      "id": "YdViO7-33UzE",
      "metadata": {
        "id": "YdViO7-33UzE"
      },
      "source": [
        "## 2.1. Build function:"
      ]
    },
    {
      "cell_type": "code",
      "execution_count": null,
      "id": "aoGzZ3CJrfVM",
      "metadata": {
        "id": "aoGzZ3CJrfVM"
      },
      "outputs": [],
      "source": [
        "def fibonacci_sequence(N):\n",
        "    \"\"\" Generate and print the Fibonacci sequence up to the N-th index. \"\"\"\n",
        "\n",
        "    if N < 0:\n",
        "        raise ValueError(\"Input value must be non-negative number.\")\n",
        "\n",
        "    a = 0\n",
        "    b = 1\n",
        "    count = 2\n",
        "    print(a, end = \" \")\n",
        "    if N > 0:\n",
        "        print(b, end = \" \")\n",
        "        while not count > N:\n",
        "            next_value = a + b\n",
        "            print(next_value, end = \" \")\n",
        "            a = b\n",
        "            b = next_value\n",
        "            count += 1"
      ]
    },
    {
      "cell_type": "code",
      "execution_count": null,
      "id": "B7LZ0J_1tsHj",
      "metadata": {
        "colab": {
          "base_uri": "https://localhost:8080/"
        },
        "id": "B7LZ0J_1tsHj",
        "outputId": "d6263c4d-72bb-48d0-fbb0-1637f90a9341"
      },
      "outputs": [
        {
          "name": "stdout",
          "output_type": "stream",
          "text": [
            "0 1 1 2 3 5 8 13 21 34 "
          ]
        }
      ],
      "source": [
        "fibonacci_sequence(9)"
      ]
    },
    {
      "cell_type": "markdown",
      "id": "rAX9Mb8D3bN9",
      "metadata": {
        "id": "rAX9Mb8D3bN9"
      },
      "source": [
        "## 2.2. Algorithm Purpose in FlowChart:"
      ]
    },
    {
      "cell_type": "markdown",
      "id": "HJDOrNkg3syl",
      "metadata": {
        "id": "HJDOrNkg3syl"
      },
      "source": [
        "Thuật toán trong flowchart có tác dụng sinh và in dãy số từ vị trí đầu tiên đến vị trí thứ **N** trong dãy theo nguyên tắc \"*Phần tử sau bằng tổng của hai phần tử đứng liền trước.*\"\n",
        "\n",
        "Thuật toán này tương ứng với thuật toán sinh dãy số nổi tiếng **Fibonacci**:\n",
        "$$\n",
        "F_n =\n",
        "\\begin{cases}\n",
        "0, & \\text{ } n = 0 \\\\\n",
        "1, & \\text{ } n = 1 \\\\\n",
        "F_{n-2} + F_{n-1}, & \\text{ } n > 1\n",
        "\\end{cases}\n",
        "$$\n",
        "\n",
        "Dãy Fibonacci: 0, 1, 1, 2, 3, 5, 8, 13, 21, 34, ..."
      ]
    }
  ],
  "metadata": {
    "colab": {
      "provenance": []
    },
    "kernelspec": {
      "display_name": "Python 3 (ipykernel)",
      "language": "python",
      "name": "python3"
    },
    "language_info": {
      "codemirror_mode": {
        "name": "ipython",
        "version": 3
      },
      "file_extension": ".py",
      "mimetype": "text/x-python",
      "name": "python",
      "nbconvert_exporter": "python",
      "pygments_lexer": "ipython3",
      "version": "3.9.16"
    }
  },
  "nbformat": 4,
  "nbformat_minor": 5
}
