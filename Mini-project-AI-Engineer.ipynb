{
 "cells": [
  {
   "cell_type": "markdown",
   "id": "7b690085-e06f-4e35-854b-bb8acc7dd5e0",
   "metadata": {},
   "source": [
    "# Final Assignment - AI Engineer Assignment"
   ]
  },
  {
   "cell_type": "markdown",
   "id": "eac3c1fc-0b29-45d2-ab22-89e2a6cbcd18",
   "metadata": {},
   "source": [
    "# Requirements:\n",
    "\n",
    "Use Gemini API instead of OpenAI API\n",
    "\n",
    "Source:\n",
    "\n",
    "https://aistudio.google.com/\n",
    "\n",
    "https://ai.google.dev/pricing#1_5flash\n",
    "\n",
    "The assignment includes two questions:"
   ]
  },
  {
   "cell_type": "markdown",
   "id": "1ab7ff10-6412-4c43-8ae1-d0270f467e23",
   "metadata": {},
   "source": [
    "## Question 1: LLM integration (Score: 30%)\n",
    "The task involves building an AI capable of language translation.\n",
    "\n",
    "**1.1 Single Text Translation:** (Score: 15%)\n",
    "\n",
    "You are asked to write a Python code using the OpenAI API to translate a given text into Vietnamese. (You should check the text if it’s already the destination language).\n",
    "\n",
    "For example, translating \"Hello\" into Vietnamese should return \"Xin chào\", but “Xin chào” should return the same.\n",
    "\n",
    "**1.2 Multiple Texts Translation:** (Score: 15%)\n",
    "\n",
    "Similar to 2.1, but the input is a list of texts. The Python code should accept a list of strings and return their translations in the specified language. For instance, translating [\"Hello\", \"I am John\", “Tôi là sinh viên”] into Vietnamese should return [\"Xin chào\", \"Tôi tên là John\", “Tôi là sinh viên”]."
   ]
  },
  {
   "cell_type": "code",
   "execution_count": 5,
   "id": "be127461-2c2c-429f-9f23-836fc82c5c57",
   "metadata": {},
   "outputs": [],
   "source": [
    "import pandas as pd\n",
    "import numpy as np\n",
    "import google.generativeai as genai\n",
    "from dotenv import load_dotenv, dotenv_values\n",
    "import os\n",
    "import time\n",
    "from sklearn.metrics.pairwise import cosine_similarity"
   ]
  },
  {
   "cell_type": "code",
   "execution_count": 6,
   "id": "4ea441ad-1dea-4cb3-8564-0b1c949388e9",
   "metadata": {},
   "outputs": [],
   "source": [
    "load_dotenv()\n",
    "# get api key\n",
    "API_KEY = os.getenv(\"API_KEY\")\n",
    "genai.configure(api_key=APIKEY)"
   ]
  },
  {
   "cell_type": "code",
   "execution_count": 7,
   "id": "3dd97494-b8af-4315-b145-59e84b72d9f8",
   "metadata": {},
   "outputs": [],
   "source": [
    "class Translator:\n",
    "    def __init__(self, model_name=\"gemini-1.5-flash\"):\n",
    "        self.model = genai.GenerativeModel(model_name)\n",
    "\n",
    "    def make_prompt(self, text):\n",
    "        prompt = (\n",
    "            f\"Translate the following text into Vietnamese. \"\n",
    "            f\"If the sentence to be translated is already in Vietnamese, keep it unchanged. \"\n",
    "            f\"Respond only with the translated text, no further explanations or additional information are allowed. \"\n",
    "            f\"Input text:\\n{text}\\n\"\n",
    "        )\n",
    "        return prompt\n",
    "\n",
    "    def make_request(self, prompt):\n",
    "        response = self.model.generate_content(prompt)\n",
    "        return response.text.strip()"
   ]
  },
  {
   "cell_type": "code",
   "execution_count": 8,
   "id": "57d60dfd-25be-4cf5-be18-c4993267aa5c",
   "metadata": {},
   "outputs": [],
   "source": [
    "model = Translator()"
   ]
  },
  {
   "cell_type": "code",
   "execution_count": 9,
   "id": "90f584ac-7287-42de-902d-c02e593b441b",
   "metadata": {},
   "outputs": [],
   "source": [
    "def translate_single_text(input_json):\n",
    "    if type(input_json) != str:\n",
    "        raise Exception(f\"Text in input json should be string type.\")\n",
    "    return model.make_request(model.make_prompt(input_json))"
   ]
  },
  {
   "cell_type": "code",
   "execution_count": 10,
   "id": "a4fc2e4f-a23d-4be8-81c6-716a8b2efe82",
   "metadata": {},
   "outputs": [],
   "source": [
    "def translate_multiple_text(input_json):\n",
    "    if type(input_json) != list:\n",
    "        raise Exception(f\"Texts in input json should be contain list of text.\")\n",
    "    results = []\n",
    "    for text in input_json:\n",
    "        results.append(model.make_request(model.make_prompt(text)))\n",
    "    return results"
   ]
  },
  {
   "cell_type": "code",
   "execution_count": 11,
   "id": "4be46a55-63b5-4d5a-98eb-2605464644d9",
   "metadata": {},
   "outputs": [],
   "source": [
    "json_1 = \"Hello\"\n",
    "json_2 = [\"Hello\", \"I am John\", \"Tôi là sinh viên\"]\n",
    "json_3 = [\"내 선생님은 너무 아름답고 현명해요\", \"10점을 주시는 선생님을 좋아합니다\"]"
   ]
  },
  {
   "cell_type": "code",
   "execution_count": 12,
   "id": "078f8ca4-a9f3-400e-ac73-530067ca3a7a",
   "metadata": {},
   "outputs": [
    {
     "data": {
      "text/plain": [
       "'Xin chào'"
      ]
     },
     "execution_count": 12,
     "metadata": {},
     "output_type": "execute_result"
    }
   ],
   "source": [
    "translate_single_text(json_1)"
   ]
  },
  {
   "cell_type": "code",
   "execution_count": 13,
   "id": "3b805400-1869-4700-93fe-dba2486e06ac",
   "metadata": {},
   "outputs": [
    {
     "data": {
      "text/plain": [
       "['Xin chào', 'Tôi là John', 'Tôi là sinh viên']"
      ]
     },
     "execution_count": 13,
     "metadata": {},
     "output_type": "execute_result"
    }
   ],
   "source": [
    "translate_multiple_text(json_2)"
   ]
  },
  {
   "cell_type": "code",
   "execution_count": 14,
   "id": "5bbf8305-b1ed-465a-b231-3de9949ab39a",
   "metadata": {},
   "outputs": [
    {
     "data": {
      "text/plain": [
       "['Cô giáo của tôi rất xinh đẹp và thông minh.',\n",
       " 'Em thích những thầy cô cho em điểm 10.']"
      ]
     },
     "execution_count": 14,
     "metadata": {},
     "output_type": "execute_result"
    }
   ],
   "source": [
    "translate_multiple_text(json_3)"
   ]
  },
  {
   "cell_type": "markdown",
   "id": "f9237e45-1758-42e0-ba17-b1861f84fa67",
   "metadata": {},
   "source": [
    "## Question 2: Chatbot Development (Score: 70%)"
   ]
  },
  {
   "cell_type": "markdown",
   "id": "9328329b-304f-47c2-afd9-4c796ecc4392",
   "metadata": {},
   "source": [
    "### 2.1 Data Access and Indexing (Score: 40%)\n",
    "\n",
    "Tasked with creating a chatbot, begin by web crawling the specified website to gather relevant data, then preprocess and structure this data into a searchable index, ready for query retrieval.\n",
    "\n",
    "(Short version: crawling then embedding data, you can use selenium or requests)\n"
   ]
  },
  {
   "cell_type": "markdown",
   "id": "e331f713-6f03-4689-b662-eca629767dac",
   "metadata": {},
   "source": [
    "#### Crawling data from website\n",
    "\n",
    "Data is at https://www.presight.io/privacy-policy.html"
   ]
  },
  {
   "cell_type": "code",
   "execution_count": 18,
   "id": "6f98b1e7-5b88-4748-a162-48918f1b0828",
   "metadata": {},
   "outputs": [],
   "source": [
    "import requests\n",
    "from bs4 import BeautifulSoup"
   ]
  },
  {
   "cell_type": "code",
   "execution_count": 19,
   "id": "a9e5656b-5169-4d34-bcee-532b51d2f2e4",
   "metadata": {},
   "outputs": [],
   "source": [
    "url = \"https://www.presight.io/privacy-policy.html\""
   ]
  },
  {
   "cell_type": "code",
   "execution_count": 20,
   "id": "778b4527-bfeb-4c32-a924-b8986899f6c3",
   "metadata": {},
   "outputs": [],
   "source": [
    "response = requests.get(url)\n",
    "soup = BeautifulSoup(response.content, \"lxml\")\n",
    "data = []"
   ]
  },
  {
   "cell_type": "code",
   "execution_count": 21,
   "id": "97314f76-63c3-41e5-a86d-0a2fbbea59f0",
   "metadata": {
    "scrolled": true
   },
   "outputs": [
    {
     "name": "stdout",
     "output_type": "stream",
     "text": [
      "PRIVACY POLICY\n",
      "Last updated 15 Sep 2023\n",
      "At Presight, we are committed to protecting the privacy of our customers and visitors to our website. This Privacy Policy explains how we collect, use, and disclose information about our customers and visitors.\n"
     ]
    }
   ],
   "source": [
    "# page header\n",
    "page_header = soup.find('h2', {'class': 'chakra-heading css-dhb2ck'}).get_text()\n",
    "print(page_header)\n",
    "update_date = soup.find('h2', {'class': 'chakra-heading css-18j379d'}).get_text()\n",
    "print(update_date)\n",
    "introduction = soup.find('p', {'class': 'chakra-text css-0'}).get_text()\n",
    "print(introduction) \n",
    "\n",
    "data.append({'title': 'Page About', 'content': page_header})\n",
    "data.append({'title': 'Update Date', 'content': update_date})\n",
    "data.append({'title': 'Introduction', 'content': introduction})"
   ]
  },
  {
   "cell_type": "code",
   "execution_count": 22,
   "id": "2f267cdf-5f16-40f0-9af2-80dd443aa9ad",
   "metadata": {
    "scrolled": true
   },
   "outputs": [],
   "source": [
    "# sections of page\n",
    "sections = soup.find_all('div', {'class': 'chakra-stack css-o5l3sd'})\n",
    "\n",
    "for div in sections:\n",
    "    section = {}\n",
    "    section['title'] = div.find('h2', {'class': 'chakra-heading css-18j379d'}).get_text()\n",
    "\n",
    "    has_sections_1 = div.find('div', {'class' : 'chakra-stack css-bel3sh'})\n",
    "    has_sections_2 = div.find('div', {'class' : 'chakra-stack css-1rh933v'})\n",
    "    if has_sections_1:\n",
    "        sub_sections = has_sections_1.find_all('div', {'class': 'css-0'})\n",
    "        \n",
    "        subset_contents = []\n",
    "        for sec in sub_sections:\n",
    "            subsec_content = {}\n",
    "            subsec_content['subtitle'] = sec.find('i', {'class': 'chakra-heading css-9f6g39'}).get_text()\n",
    "            text = sec.find('p', {'class': 'chakra-text css-0'}).get_text()\n",
    "            try:\n",
    "                bullet = sec.find_all('li', {'class': 'css-0'})\n",
    "                for b in bullet:\n",
    "                    bullet_content =  b.get_text()\n",
    "                    text = text + \", \" + bullet_content\n",
    "            except:\n",
    "                None\n",
    "            subsec_content['content'] = text\n",
    "            subset_contents.append(subsec_content)\n",
    "        section['content'] = subset_contents\n",
    "        \n",
    "    elif has_sections_2:\n",
    "        sub_sections = has_sections_2.find_all(['h2', 'p'])\n",
    "        \n",
    "        subset_contents = []\n",
    "        for sec in sub_sections:\n",
    "            if sec.name == 'h2':\n",
    "                subsec_content = {}\n",
    "                subsec_content['subtitle'] = sec.get_text()\n",
    "            if sec.name == 'p':\n",
    "                subsec_content['content'] = sec.get_text()\n",
    "                subset_contents.append(subsec_content)\n",
    "        section['content'] = subset_contents\n",
    "\n",
    "    else:\n",
    "        try:\n",
    "            text = div.find('p', {'class': 'chakra-text css-0'}).get_text()\n",
    "        except:\n",
    "            None\n",
    "        try:\n",
    "            bullet = div.find_all('li', {'class': 'css-0'})\n",
    "            for b in bullet:\n",
    "                bullet_content =  b.get_text()\n",
    "                text = text + \", \" + bullet_content\n",
    "        except:\n",
    "            None\n",
    "        section['content'] = text\n",
    "    data.append(section)"
   ]
  },
  {
   "cell_type": "code",
   "execution_count": 23,
   "id": "aefafa9b-51cc-4be6-8060-2d8efc0d47c8",
   "metadata": {
    "scrolled": true
   },
   "outputs": [
    {
     "data": {
      "text/plain": [
       "[{'title': 'Page About', 'content': 'PRIVACY POLICY'},\n",
       " {'title': 'Update Date', 'content': 'Last updated 15 Sep 2023'},\n",
       " {'title': 'Introduction',\n",
       "  'content': 'At Presight, we are committed to protecting the privacy of our customers and visitors to our website. This Privacy Policy explains how we collect, use, and disclose information about our customers and visitors.'},\n",
       " {'title': 'Information Collection and Use',\n",
       "  'content': 'We collect several different types of information for various purposes to provide and improve our Service to you.'},\n",
       " {'title': 'Types of Data Collected',\n",
       "  'content': [{'subtitle': 'Personal Data',\n",
       "    'content': 'While using our Service, we may ask you to provide us with certain personally identifiable information that can be used to contact or identify you (\"Personal Data\"). Personally identifiable information may include, but is not limited to:, Email address, First name and last name, Phone number, Address, State, Province, ZIP/Postal code, City, Cookies and Usage Data'},\n",
       "   {'subtitle': 'Usage Data',\n",
       "    'content': 'We may also collect information that your browser sends whenever you visit our Service or when you access the Service by or through a mobile device (\"Usage Data\"). This Usage Data may include information such as your computer\\'s Internet Protocol address (e.g. IP address), browser type, browser version, the pages of our Service that you visit, the time and date of your visit, the time spent on those pages, unique device identifiers, and other diagnostic data.'}]},\n",
       " {'title': 'Use of Data',\n",
       "  'content': 'Presight uses the collected data for various purposes:, To provide and maintain our Service, To notify you about changes to our Service, To allow you to participate in interactive features of our Service when you choose to do so, To provide customer support, To gather analysis or valuable information so that we can improve our Service, To monitor the usage of our Service, To detect, prevent and address technical issues'},\n",
       " {'title': 'Consent',\n",
       "  'content': 'As personal information is collected, you will be asked to confirm that your information is correct prior to submitting it to Presight.'},\n",
       " {'title': 'Access to Personal Information',\n",
       "  'content': [{'subtitle': 'Accessing Your Personal Information',\n",
       "    'content': 'You have the right to access all of your personal information that we hold. Through the application, you can correct, amend, or append your personal information by logging into the application and navigating to your settings and profile.'},\n",
       "   {'subtitle': 'Automated Edit Checks',\n",
       "    'content': 'Presight employs automated edit checks to ensure that data entry fields are completed properly when collecting personal information. These edit checks help maintain data integrity and accuracy. You are encouraged to provide complete and valid information to ensure the smooth processing of their personal data.'}]},\n",
       " {'title': 'Disclosure of Information',\n",
       "  'content': 'We may disclose your application data to third-party service providers who help us provide our services such as Datadog, AWS, Google Cloud and Google Workspace. We may also disclose your information in response to a legal request, such as a subpoena or court order, or to protect our rights or the rights of others.'},\n",
       " {'title': 'Sharing of Personal Data',\n",
       "  'content': 'Your personal data will not be subject to sharing, transfer, rental or exchange for the benefit of third parties, including AI models.'},\n",
       " {'title': 'Google User Data and Google Workspace APIs',\n",
       "  'content': 'In all cases when users authenticate the platform to Google Workspace, the following applies:, We do not retain or use Google User Data to develop, improve, or train generalized/non-personalized AI and/or ML models., We do not use Google Workspace APIs to develop, improve, or train generalized/non-personalized AI and/or ML models., We do not transfer Google User Data to third-party AI tools for the purpose of developing, improving, or training generalized or non-personalized AI and/or ML models.'},\n",
       " {'title': 'Data Security',\n",
       "  'content': 'In all cases when users authenticate the platform to Google Workspace, the following applies:, We do not retain or use Google User Data to develop, improve, or train generalized/non-personalized AI and/or ML models., We do not use Google Workspace APIs to develop, improve, or train generalized/non-personalized AI and/or ML models., We do not transfer Google User Data to third-party AI tools for the purpose of developing, improving, or training generalized or non-personalized AI and/or ML models., All data is encrypted both in transit and at rest, using industry-standard encryption methods., We regularly perform security audits and vulnerability assessments to ensure the safety of our platform and the data stored within it., Our employees are trained on best practices for data security, and access to customer data is restricted on a need-to-know basis.'},\n",
       " {'title': 'Data Retention & Disposal',\n",
       "  'content': 'Customer data is retained for as long as the account is in active status. Data enters an “expired” state when the account is voluntarily closed. Expired account data will be retained for 60 days. After this period, the account and related data will be removed.'},\n",
       " {'title': \"Quality, Including Data Subjects' Responsibilities for Quality\",\n",
       "  'content': 'Customer data is retained for as long as the account is in active status. Data enters an “expired” state when the account is voluntarily closed. Expired account data will be retained for 60 days. After this period, the account and related data will be removed., We are committed to maintaining the quality and accuracy of the personal information we collect and process., We rely on data subjects to provide accurate and up-to-date information., Data subjects have the responsibility to inform us of any changes or inaccuracies in their personal data., If you believe that any information we hold about you is inaccurate, incomplete, or outdated, please contact us promptly to rectify the information.'},\n",
       " {'title': 'Monitoring and Enforcement',\n",
       "  'content': 'Customer data is retained for as long as the account is in active status. Data enters an “expired” state when the account is voluntarily closed. Expired account data will be retained for 60 days. After this period, the account and related data will be removed., We are committed to maintaining the quality and accuracy of the personal information we collect and process., We rely on data subjects to provide accurate and up-to-date information., Data subjects have the responsibility to inform us of any changes or inaccuracies in their personal data., If you believe that any information we hold about you is inaccurate, incomplete, or outdated, please contact us promptly to rectify the information., We regularly monitor its data processing activities to ensure compliance with this privacy policy and applicable data protection laws., In the event of a data breach or any unauthorized access to your personal information, we will notify you and the appropriate authorities as required by law., We committed to cooperating with data protection authorities and complying with their advice and decisions regarding data protection and privacy matters.'},\n",
       " {'title': 'Cookies',\n",
       "  'content': 'We use cookies to enhance your experience on our website. You can control the use of cookies through your web browser settings.'},\n",
       " {'title': 'Third-Party Websites',\n",
       "  'content': 'Our website may contain links to third-party websites. We are not responsible for the privacy practices or content of those websites.'},\n",
       " {'title': 'Changes to Privacy Policy',\n",
       "  'content': 'We may update this Privacy Policy from time to time. The updated Privacy Policy will be posted on our website.'},\n",
       " {'title': 'Contact Us',\n",
       "  'content': 'If you have any questions about this Privacy Policy, please contact us through the customer portal or by email at presight@presight.io.'},\n",
       " {'title': 'Purposeful Use Only',\n",
       "  'content': \"We commit to only use personal information for the purposes identified in the entity's privacy policy.\"}]"
      ]
     },
     "execution_count": 23,
     "metadata": {},
     "output_type": "execute_result"
    }
   ],
   "source": [
    "data"
   ]
  },
  {
   "cell_type": "markdown",
   "id": "eaed573d-b67a-417d-960a-1264e32d8b5c",
   "metadata": {},
   "source": [
    "#### Preprocessing and Structuring Data"
   ]
  },
  {
   "cell_type": "markdown",
   "id": "6e6b9467-a532-4c85-9af0-8c36dc6d0577",
   "metadata": {},
   "source": [
    "https://ai.google.dev/gemini-api/docs/embeddings"
   ]
  },
  {
   "cell_type": "code",
   "execution_count": 26,
   "id": "53804561-21d1-4d4d-89a4-aa05a90a59d3",
   "metadata": {},
   "outputs": [],
   "source": [
    "preprocessed_data = []\n",
    "\n",
    "for item in data:\n",
    "    if type(item['content']) == list:\n",
    "        combined_content = \"\"\n",
    "        for subitem in item['content']:\n",
    "            combined_content += f\"-{subitem['subtitle']}: {subitem['content']};\"\n",
    "        restructure_item = {\n",
    "            'title': item['title'],\n",
    "            'content': combined_content.strip()\n",
    "        }\n",
    "        preprocessed_data.append(restructure_item)\n",
    "    else:\n",
    "        preprocessed_data.append(item)"
   ]
  },
  {
   "cell_type": "code",
   "execution_count": 27,
   "id": "7db126a4-4057-49d8-aae2-76637ef11da3",
   "metadata": {
    "scrolled": true
   },
   "outputs": [
    {
     "name": "stdout",
     "output_type": "stream",
     "text": [
      "Index 0 :\n",
      " Title: Page About\n",
      " Content: PRIVACY POLICY\n",
      "Index 1 :\n",
      " Title: Update Date\n",
      " Content: Last updated 15 Sep 2023\n",
      "Index 2 :\n",
      " Title: Introduction\n",
      " Content: At Presight, we are committed to protecting the privacy of our customers and visitors to our website. This Privacy Policy explains how we collect, use, and disclose information about our customers and visitors.\n",
      "Index 3 :\n",
      " Title: Information Collection and Use\n",
      " Content: We collect several different types of information for various purposes to provide and improve our Service to you.\n",
      "Index 4 :\n",
      " Title: Types of Data Collected\n",
      " Content: -Personal Data: While using our Service, we may ask you to provide us with certain personally identifiable information that can be used to contact or identify you (\"Personal Data\"). Personally identifiable information may include, but is not limited to:, Email address, First name and last name, Phone number, Address, State, Province, ZIP/Postal code, City, Cookies and Usage Data;-Usage Data: We may also collect information that your browser sends whenever you visit our Service or when you access the Service by or through a mobile device (\"Usage Data\"). This Usage Data may include information such as your computer's Internet Protocol address (e.g. IP address), browser type, browser version, the pages of our Service that you visit, the time and date of your visit, the time spent on those pages, unique device identifiers, and other diagnostic data.;\n",
      "Index 5 :\n",
      " Title: Use of Data\n",
      " Content: Presight uses the collected data for various purposes:, To provide and maintain our Service, To notify you about changes to our Service, To allow you to participate in interactive features of our Service when you choose to do so, To provide customer support, To gather analysis or valuable information so that we can improve our Service, To monitor the usage of our Service, To detect, prevent and address technical issues\n",
      "Index 6 :\n",
      " Title: Consent\n",
      " Content: As personal information is collected, you will be asked to confirm that your information is correct prior to submitting it to Presight.\n",
      "Index 7 :\n",
      " Title: Access to Personal Information\n",
      " Content: -Accessing Your Personal Information: You have the right to access all of your personal information that we hold. Through the application, you can correct, amend, or append your personal information by logging into the application and navigating to your settings and profile.;-Automated Edit Checks: Presight employs automated edit checks to ensure that data entry fields are completed properly when collecting personal information. These edit checks help maintain data integrity and accuracy. You are encouraged to provide complete and valid information to ensure the smooth processing of their personal data.;\n",
      "Index 8 :\n",
      " Title: Disclosure of Information\n",
      " Content: We may disclose your application data to third-party service providers who help us provide our services such as Datadog, AWS, Google Cloud and Google Workspace. We may also disclose your information in response to a legal request, such as a subpoena or court order, or to protect our rights or the rights of others.\n",
      "Index 9 :\n",
      " Title: Sharing of Personal Data\n",
      " Content: Your personal data will not be subject to sharing, transfer, rental or exchange for the benefit of third parties, including AI models.\n",
      "Index 10 :\n",
      " Title: Google User Data and Google Workspace APIs\n",
      " Content: In all cases when users authenticate the platform to Google Workspace, the following applies:, We do not retain or use Google User Data to develop, improve, or train generalized/non-personalized AI and/or ML models., We do not use Google Workspace APIs to develop, improve, or train generalized/non-personalized AI and/or ML models., We do not transfer Google User Data to third-party AI tools for the purpose of developing, improving, or training generalized or non-personalized AI and/or ML models.\n",
      "Index 11 :\n",
      " Title: Data Security\n",
      " Content: In all cases when users authenticate the platform to Google Workspace, the following applies:, We do not retain or use Google User Data to develop, improve, or train generalized/non-personalized AI and/or ML models., We do not use Google Workspace APIs to develop, improve, or train generalized/non-personalized AI and/or ML models., We do not transfer Google User Data to third-party AI tools for the purpose of developing, improving, or training generalized or non-personalized AI and/or ML models., All data is encrypted both in transit and at rest, using industry-standard encryption methods., We regularly perform security audits and vulnerability assessments to ensure the safety of our platform and the data stored within it., Our employees are trained on best practices for data security, and access to customer data is restricted on a need-to-know basis.\n",
      "Index 12 :\n",
      " Title: Data Retention & Disposal\n",
      " Content: Customer data is retained for as long as the account is in active status. Data enters an “expired” state when the account is voluntarily closed. Expired account data will be retained for 60 days. After this period, the account and related data will be removed.\n",
      "Index 13 :\n",
      " Title: Quality, Including Data Subjects' Responsibilities for Quality\n",
      " Content: Customer data is retained for as long as the account is in active status. Data enters an “expired” state when the account is voluntarily closed. Expired account data will be retained for 60 days. After this period, the account and related data will be removed., We are committed to maintaining the quality and accuracy of the personal information we collect and process., We rely on data subjects to provide accurate and up-to-date information., Data subjects have the responsibility to inform us of any changes or inaccuracies in their personal data., If you believe that any information we hold about you is inaccurate, incomplete, or outdated, please contact us promptly to rectify the information.\n",
      "Index 14 :\n",
      " Title: Monitoring and Enforcement\n",
      " Content: Customer data is retained for as long as the account is in active status. Data enters an “expired” state when the account is voluntarily closed. Expired account data will be retained for 60 days. After this period, the account and related data will be removed., We are committed to maintaining the quality and accuracy of the personal information we collect and process., We rely on data subjects to provide accurate and up-to-date information., Data subjects have the responsibility to inform us of any changes or inaccuracies in their personal data., If you believe that any information we hold about you is inaccurate, incomplete, or outdated, please contact us promptly to rectify the information., We regularly monitor its data processing activities to ensure compliance with this privacy policy and applicable data protection laws., In the event of a data breach or any unauthorized access to your personal information, we will notify you and the appropriate authorities as required by law., We committed to cooperating with data protection authorities and complying with their advice and decisions regarding data protection and privacy matters.\n",
      "Index 15 :\n",
      " Title: Cookies\n",
      " Content: We use cookies to enhance your experience on our website. You can control the use of cookies through your web browser settings.\n",
      "Index 16 :\n",
      " Title: Third-Party Websites\n",
      " Content: Our website may contain links to third-party websites. We are not responsible for the privacy practices or content of those websites.\n",
      "Index 17 :\n",
      " Title: Changes to Privacy Policy\n",
      " Content: We may update this Privacy Policy from time to time. The updated Privacy Policy will be posted on our website.\n",
      "Index 18 :\n",
      " Title: Contact Us\n",
      " Content: If you have any questions about this Privacy Policy, please contact us through the customer portal or by email at presight@presight.io.\n",
      "Index 19 :\n",
      " Title: Purposeful Use Only\n",
      " Content: We commit to only use personal information for the purposes identified in the entity's privacy policy.\n"
     ]
    }
   ],
   "source": [
    "for index, item in enumerate(preprocessed_data):\n",
    "    print('Index', index, ':')\n",
    "    print(' Title:', item['title'])\n",
    "    print(' Content:', item['content'])"
   ]
  },
  {
   "cell_type": "markdown",
   "id": "40070a00-95d0-436f-9da3-a03727fe9550",
   "metadata": {},
   "source": [
    "#### Embedding by called API"
   ]
  },
  {
   "cell_type": "code",
   "execution_count": 29,
   "id": "6cf3822d",
   "metadata": {},
   "outputs": [],
   "source": [
    "embedded_data = []\n",
    "\n",
    "for item in preprocessed_data:\n",
    "    result = genai.embed_content(\n",
    "        model=\"models/text-embedding-004\",\n",
    "        content=item[\"content\"],\n",
    "        task_type=\"retrieval_document\",\n",
    "        title=item[\"title\"]  # Provide the title for better embeddings\n",
    "    )\n",
    "    embedded_data.append({\n",
    "        \"title\": item[\"title\"],\n",
    "        \"content\": item[\"content\"],\n",
    "        \"embedding\": result['embedding']\n",
    "    })"
   ]
  },
  {
   "cell_type": "code",
   "execution_count": 30,
   "id": "9336b99b-d73e-4591-a549-8e243d9a834b",
   "metadata": {
    "scrolled": true
   },
   "outputs": [
    {
     "data": {
      "text/html": [
       "<div>\n",
       "<style scoped>\n",
       "    .dataframe tbody tr th:only-of-type {\n",
       "        vertical-align: middle;\n",
       "    }\n",
       "\n",
       "    .dataframe tbody tr th {\n",
       "        vertical-align: top;\n",
       "    }\n",
       "\n",
       "    .dataframe thead th {\n",
       "        text-align: right;\n",
       "    }\n",
       "</style>\n",
       "<table border=\"1\" class=\"dataframe\">\n",
       "  <thead>\n",
       "    <tr style=\"text-align: right;\">\n",
       "      <th></th>\n",
       "      <th>title</th>\n",
       "      <th>content</th>\n",
       "      <th>embedding</th>\n",
       "    </tr>\n",
       "  </thead>\n",
       "  <tbody>\n",
       "    <tr>\n",
       "      <th>0</th>\n",
       "      <td>Page About</td>\n",
       "      <td>PRIVACY POLICY</td>\n",
       "      <td>[-0.048945945, 0.008555042, -0.03837295, -0.04...</td>\n",
       "    </tr>\n",
       "    <tr>\n",
       "      <th>1</th>\n",
       "      <td>Update Date</td>\n",
       "      <td>Last updated 15 Sep 2023</td>\n",
       "      <td>[0.040753134, 0.059642516, -0.048014387, -0.04...</td>\n",
       "    </tr>\n",
       "    <tr>\n",
       "      <th>2</th>\n",
       "      <td>Introduction</td>\n",
       "      <td>At Presight, we are committed to protecting th...</td>\n",
       "      <td>[-0.0009376601, -0.0157132, -0.05022917, -0.05...</td>\n",
       "    </tr>\n",
       "    <tr>\n",
       "      <th>3</th>\n",
       "      <td>Information Collection and Use</td>\n",
       "      <td>We collect several different types of informat...</td>\n",
       "      <td>[-0.052642185, -0.011830902, -0.039871644, -0....</td>\n",
       "    </tr>\n",
       "    <tr>\n",
       "      <th>4</th>\n",
       "      <td>Types of Data Collected</td>\n",
       "      <td>-Personal Data: While using our Service, we ma...</td>\n",
       "      <td>[-0.06256992, -0.010571767, -0.057725344, -0.0...</td>\n",
       "    </tr>\n",
       "  </tbody>\n",
       "</table>\n",
       "</div>"
      ],
      "text/plain": [
       "                            title  \\\n",
       "0                      Page About   \n",
       "1                     Update Date   \n",
       "2                    Introduction   \n",
       "3  Information Collection and Use   \n",
       "4         Types of Data Collected   \n",
       "\n",
       "                                             content  \\\n",
       "0                                     PRIVACY POLICY   \n",
       "1                           Last updated 15 Sep 2023   \n",
       "2  At Presight, we are committed to protecting th...   \n",
       "3  We collect several different types of informat...   \n",
       "4  -Personal Data: While using our Service, we ma...   \n",
       "\n",
       "                                           embedding  \n",
       "0  [-0.048945945, 0.008555042, -0.03837295, -0.04...  \n",
       "1  [0.040753134, 0.059642516, -0.048014387, -0.04...  \n",
       "2  [-0.0009376601, -0.0157132, -0.05022917, -0.05...  \n",
       "3  [-0.052642185, -0.011830902, -0.039871644, -0....  \n",
       "4  [-0.06256992, -0.010571767, -0.057725344, -0.0...  "
      ]
     },
     "execution_count": 30,
     "metadata": {},
     "output_type": "execute_result"
    }
   ],
   "source": [
    "embedded_data = pd.DataFrame(embedded_data)\n",
    "embedded_data.head(5)"
   ]
  },
  {
   "cell_type": "markdown",
   "id": "00d89e5f-ea7c-4135-a15d-938d75c53837",
   "metadata": {},
   "source": [
    "### 2.2 Chatbot Development (Score: 30%)\n",
    "\n",
    "Develop a chatbot that employs natural language processing to comprehend user questions, searches the indexed data from 2.1 for the best match, and delivers the most accurate response drawn from the website's information.\n",
    "\n",
    "(Use any distance/similarity metrics to get the best match paragraph then feed to LLM to get answer)"
   ]
  },
  {
   "cell_type": "markdown",
   "id": "5e5fd9f3-8d34-400e-82eb-24dbdf5169c4",
   "metadata": {},
   "source": [
    "https://ai.google.dev/gemini-api/docs/prompting-strategies"
   ]
  },
  {
   "cell_type": "code",
   "execution_count": 33,
   "id": "6666bd6d-a1d5-4ee6-a174-8da3f37f11b6",
   "metadata": {},
   "outputs": [],
   "source": [
    "def best_match(query, df):\n",
    "    \"\"\"\n",
    "    Compute the distances between the query and each document in the dataframe\n",
    "    using the dot product.\n",
    "    \"\"\"\n",
    "    query_embedding = genai.embed_content(model=\"models/text-embedding-004\",\n",
    "                                          content=query,\n",
    "                                          task_type=\"retrieval_query\")\n",
    "\n",
    "    # Compute norms of the embeddings\n",
    "    doc_embeddings = np.stack(df['embedding'])\n",
    "    doc_norms = np.linalg.norm(doc_embeddings, axis=1)\n",
    "    query_norm = np.linalg.norm(query_embedding[\"embedding\"])\n",
    "    \n",
    "    # Compute cosine similarity\n",
    "    cosine_similarities = np.dot(doc_embeddings, query_embedding[\"embedding\"]) / (doc_norms * query_norm)\n",
    "    results = df.iloc[np.argsort(cosine_similarities)[-5:][::-1]]\n",
    "    \n",
    "    return results['content'].tolist() # Return text from index with max value"
   ]
  },
  {
   "cell_type": "code",
   "execution_count": 34,
   "id": "afc015d9-e1dd-42a7-9ca2-d666923f54c8",
   "metadata": {},
   "outputs": [],
   "source": [
    "class QA_Chatbot:\n",
    "    def __init__(self, model_name=\"gemini-1.5-flash\"):\n",
    "        self.model = genai.GenerativeModel(model_name)\n",
    "\n",
    "    def make_prompt(self, query, context):\n",
    "        prompt = (\n",
    "            f\"Imagine yourself as an expert in customer service, \\\n",
    "                tasked with providing detailed and accurate answers to customer inquiries about your organization.\"\n",
    "            f\"Your responses must be based solely on the stored information available, without heavily relying on assumptions. \\\n",
    "                You are free to rephrase the sentence in your own words, but the factual content of the stored information must remain unchanged. \\\n",
    "                Do not provide any information which is not directly relevant to the question.\"\n",
    "            f\"Provide comprehensive answers with thorough (but not too long) explanations unless the user specifically requests a lengthy response. \"\n",
    "            f\"If a term used in the answer is not commonly understood, include a brief explanation for clarity. \"\n",
    "            f\"You are not permitted to respond to questions based on assumptions.\"\n",
    "            f\"The answer must be the same language with the question.\"\n",
    "            f\"Here is the user's question: \\\"{query}\\\" \"\n",
    "            f\"The related document is as follows: \\\"{context}\\\"\"\n",
    "        )\n",
    "        return prompt\n",
    "\n",
    "    def make_request(self, query, retries=3):\n",
    "        attempt = 0\n",
    "        while attempt < retries:\n",
    "            try:\n",
    "                context = best_match(query, embedded_data)\n",
    "                response = self.model.generate_content(self.make_prompt(query, context))\n",
    "                return response.text.strip()\n",
    "            except (TimeoutError, ConnectionError) as e:\n",
    "                attempt += 1\n",
    "                print(f\"Attempt {attempt}/{retries} failed due to {type(e).__name__}: {str(e)}\")\n",
    "                time.sleep(60)\n",
    "            except Exception as e:\n",
    "                print(f\"An unexpected error occurred: {type(e).__name__}: {str(e)}\")\n",
    "                break   \n",
    "        return f\"Sorry, an error occurred while processing your request. Please try again later.\""
   ]
  },
  {
   "cell_type": "code",
   "execution_count": 35,
   "id": "d4833916-5d03-4ae4-acbe-ec26c2c507be",
   "metadata": {},
   "outputs": [],
   "source": [
    "model = QA_Chatbot()"
   ]
  },
  {
   "cell_type": "code",
   "execution_count": 36,
   "id": "683804ba-2952-4183-9b62-96d9a46f1949",
   "metadata": {},
   "outputs": [
    {
     "name": "stdout",
     "output_type": "stream",
     "text": [
      "Answer: Presight collects data to provide and maintain its service, notify users of service changes, enable participation in interactive features (if chosen by the user), provide customer support, improve the service through analysis, monitor service usage, and address technical issues.  The type of data collected is not specified in the provided text.\n",
      "Running time: 1.5659940242767334 seconds\n"
     ]
    }
   ],
   "source": [
    "start = time.time()\n",
    "query = \"What types of data does Presight collect from users?\"\n",
    "print(f\"Answer: {model.make_request(query)}\") \n",
    "end = time.time()\n",
    "print(f\"Running time: {end-start} seconds\")"
   ]
  },
  {
   "cell_type": "code",
   "execution_count": 37,
   "id": "be8c4434-7392-4173-96a3-9f00609f12e1",
   "metadata": {},
   "outputs": [
    {
     "name": "stdout",
     "output_type": "stream",
     "text": [
      "Answer: The latest update was on September 15, 2023.\n",
      "Running time: 1.2308411598205566 seconds\n"
     ]
    }
   ],
   "source": [
    "start = time.time()\n",
    "query = \"when is the latest update?\" \n",
    "print(f\"Answer: {model.make_request(query)}\") \n",
    "end = time.time()\n",
    "print(f\"Running time: {end-start} seconds\")"
   ]
  },
  {
   "cell_type": "code",
   "execution_count": 38,
   "id": "d30be122-10c1-4de3-aead-3f45792d8165",
   "metadata": {},
   "outputs": [
    {
     "name": "stdout",
     "output_type": "stream",
     "text": [
      "Answer: Presight employs automated edit checks during data entry to ensure accuracy and data integrity.  These checks verify that information fields are completed correctly.  Additionally, before submitting personal information, users are asked to confirm its accuracy.\n",
      "Running time: 1.3438348770141602 seconds\n"
     ]
    }
   ],
   "source": [
    "start = time.time()\n",
    "query = \"What measures does Presight take to ensure data security?\" \n",
    "print(f\"Answer: {model.make_request(query)}\") \n",
    "end = time.time()\n",
    "print(f\"Running time: {end-start} seconds\")"
   ]
  }
 ],
 "metadata": {
  "kernelspec": {
   "display_name": "Python 3 (ipykernel)",
   "language": "python",
   "name": "python3"
  },
  "language_info": {
   "codemirror_mode": {
    "name": "ipython",
    "version": 3
   },
   "file_extension": ".py",
   "mimetype": "text/x-python",
   "name": "python",
   "nbconvert_exporter": "python",
   "pygments_lexer": "ipython3",
   "version": "3.11.7"
  }
 },
 "nbformat": 4,
 "nbformat_minor": 5
}
