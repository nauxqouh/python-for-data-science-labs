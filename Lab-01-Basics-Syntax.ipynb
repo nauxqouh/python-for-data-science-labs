{
 "cells": [
  {
   "cell_type": "markdown",
   "id": "2a0fcf93-6cd2-453e-802c-82b7b6c2a430",
   "metadata": {
    "id": "2a0fcf93-6cd2-453e-802c-82b7b6c2a430"
   },
   "source": [
    "# Lab01 – Basics Syntax"
   ]
  },
  {
   "cell_type": "markdown",
   "id": "da1a9693-02cf-49c8-8e51-6a16e9b738d7",
   "metadata": {
    "id": "da1a9693-02cf-49c8-8e51-6a16e9b738d7"
   },
   "source": [
    "### Target\n",
    "\n",
    "Understand the following concepts:\n",
    "\n",
    "* Variables, data types, and operations\n",
    "* Strings and string manipulation\n",
    "* Data input and output"
   ]
  },
  {
   "cell_type": "markdown",
   "id": "c860fe18-2410-4113-912f-8ac1e72b7f90",
   "metadata": {
    "id": "c860fe18-2410-4113-912f-8ac1e72b7f90"
   },
   "source": [
    "### Requirement"
   ]
  },
  {
   "cell_type": "markdown",
   "id": "41542702-c9d8-447e-b9f6-b137b7492b71",
   "metadata": {
    "id": "41542702-c9d8-447e-b9f6-b137b7492b71"
   },
   "source": [
    "1. The following code reads two integers from users. Update the code to print 3 lines as following:\n",
    "* The first line displays the sum of two numbers.\n",
    "* The second line displays the difference of the two numbers (the first number - the second number).\n",
    "* The third line displays the product of the two numbers."
   ]
  },
  {
   "cell_type": "code",
   "execution_count": 2,
   "id": "b1e0cb40-81b8-4f51-8b7d-bedbc86dbc00",
   "metadata": {
    "id": "b1e0cb40-81b8-4f51-8b7d-bedbc86dbc00"
   },
   "outputs": [
    {
     "name": "stdout",
     "output_type": "stream",
     "text": [
      "Hãy nhập số nguyên a:\n",
      " 12\n",
      "Hãy nhập số nguyên b:\n",
      " 2\n"
     ]
    }
   ],
   "source": [
    "a = int(input(\"Hãy nhập số nguyên a:\\n\"))\n",
    "b = int(input(\"Hãy nhập số nguyên b:\\n\"))"
   ]
  },
  {
   "cell_type": "code",
   "execution_count": 6,
   "id": "f63d2f36-6374-4669-a34a-5170b6d80e29",
   "metadata": {
    "id": "f63d2f36-6374-4669-a34a-5170b6d80e29"
   },
   "outputs": [
    {
     "name": "stdout",
     "output_type": "stream",
     "text": [
      "Tổng của hai số a + b là: 14\n",
      "Hiệu của hai số a - b là: 10\n",
      "Tích của hai số a x b là: 24\n"
     ]
    }
   ],
   "source": [
    "print(f\"Tổng của hai số a + b là: {a+b}\")\n",
    "print(f\"Hiệu của hai số a - b là: {a-b}\")\n",
    "print(f\"Tích của hai số a x b là: {a*b}\")"
   ]
  },
  {
   "cell_type": "markdown",
   "id": "05e2f9b2-1115-4567-9a67-a244c4ad7aed",
   "metadata": {
    "id": "05e2f9b2-1115-4567-9a67-a244c4ad7aed"
   },
   "source": [
    "2. Write a program that asks the user for their name, age, and country, then, use string formatting to display the information in the following format:\n",
    "```\n",
    "Tên: {username}\n",
    "Tuổi: {age}\n",
    "Quốc gia: {country}\n",
    "```"
   ]
  },
  {
   "cell_type": "code",
   "execution_count": 5,
   "id": "5a5a56b0-e75e-47c9-934b-d1aa1de0884d",
   "metadata": {
    "id": "5a5a56b0-e75e-47c9-934b-d1aa1de0884d"
   },
   "outputs": [
    {
     "name": "stdout",
     "output_type": "stream",
     "text": [
      "Hãy nhập tên của bạn:  Nguyễn Thị Xuân Hương\n",
      "Hãy nhập tuổi của bạn:  19\n",
      "Hãy nhập quốc gia của bạn:  Việt Nam\n"
     ]
    },
    {
     "name": "stdout",
     "output_type": "stream",
     "text": [
      "\n",
      "Tên: Nguyễn Thị Xuân Hương\n",
      "Tuổi: 19\n",
      "Quốc gia: Việt Nam\n"
     ]
    }
   ],
   "source": [
    "# Asking user for their name, age, and country\n",
    "username = input(\"Hãy nhập tên của bạn: \")\n",
    "age = int(input(\"Hãy nhập tuổi của bạn: \"))\n",
    "country = input(\"Hãy nhập quốc gia của bạn: \")\n",
    "\n",
    "# string formatting to display the information in the following format\n",
    "print(f\"\\nTên: {username}\\nTuổi: {age}\\nQuốc gia: {country}\")"
   ]
  },
  {
   "cell_type": "markdown",
   "id": "edd7a8c7-69bc-4b15-871c-1d6c5fc6e37f",
   "metadata": {
    "id": "edd7a8c7-69bc-4b15-871c-1d6c5fc6e37f"
   },
   "source": [
    "3. Write a program that performs the following tasks:\n",
    "* Prompt the user to enter the student's name.\n",
    "* Prompt the user to enter grades for the following subjects: Math, Physics, and Chemistry.\n",
    "* Calculate and display the student's average grade.\n",
    "* Print the results in the following format:\n",
    "    * Align columns for the student's name, subject grades, and average grade.\n",
    "    * Format grades to two decimal places.\n",
    "    * Use \"\\t|\\t\" as a separator between columns.\n",
    "\n",
    "* Output template: **\n",
    "```\n",
    "Nhập tên sinh viên: Nguyễn Văn A\n",
    "\n",
    "Nhập điểm Toán: 8.0\n",
    "\n",
    "Nhập điểm Lý: 7.5\n",
    "\n",
    "Nhập điểm Hóa: 9.0\n",
    "\n",
    "Điểm trung bình: 7.75\n",
    "\n",
    "Tên sinh viên\t|\tToán\t|\tLý\t|\tHoá\t|\tĐiểm trung bình\n",
    "Nguyễn Văn A\t|\t8.00\t|\t7.50\t|\t9.00\t|\t8.17\n",
    "```"
   ]
  },
  {
   "cell_type": "code",
   "execution_count": 8,
   "id": "cd74fe6e-7283-42fe-a1fa-b02708ee916e",
   "metadata": {
    "id": "cd74fe6e-7283-42fe-a1fa-b02708ee916e"
   },
   "outputs": [
    {
     "name": "stdout",
     "output_type": "stream",
     "text": [
      "Nhập tên sinh viên:  Nguyễn Văn A\n",
      "\n",
      "Nhập điểm Toán:  8.0\n",
      "\n",
      "Nhập điểm Lý:  7.5\n",
      "\n",
      "Nhập điểm Hoá:  9.0\n"
     ]
    },
    {
     "name": "stdout",
     "output_type": "stream",
     "text": [
      "\n",
      "Điểm trung bình: 8.17\n",
      "\n",
      "Tên sinh viên\t|\tToán\t|\tLý\t|\tHoá\t|\tĐiểm trung bình\n",
      "Nguyễn Văn A\t|\t8.00\t|\t7.50\t|\t9.00\t|\t8.17\n"
     ]
    }
   ],
   "source": [
    "# Prompt the user to enter the student's name.\n",
    "student_name = input(\"Nhập tên sinh viên: \")\n",
    "\n",
    "# Prompt the user to enter grades for the following subjects: Math, Physics, and Chemistry.\n",
    "math_score = float(input(\"\\nNhập điểm Toán: \"))\n",
    "physic_score = float(input(\"\\nNhập điểm Lý: \"))\n",
    "chemistry_score = float(input(\"\\nNhập điểm Hoá: \"))\n",
    "\n",
    "# Calculate and display the student's average grade.\n",
    "average_score = (math_score + physic_score + chemistry_score)/3\n",
    "print(f\"\\nĐiểm trung bình: {average_score:.2f}\")\n",
    "\n",
    "# Print the results in the following format\n",
    "print(f\"\\nTên sinh viên\\t|\\tToán\\t|\\tLý\\t|\\tHoá\\t|\\tĐiểm trung bình\\n{student_name}\\t|\\t{math_score:.2f}\\t|\\t{physic_score:.2f}\\t|\\t{chemistry_score:.2f}\\t|\\t{average_score:.2f}\")"
   ]
  }
 ],
 "metadata": {
  "colab": {
   "provenance": []
  },
  "kernelspec": {
   "display_name": "Python 3 (ipykernel)",
   "language": "python",
   "name": "python3"
  },
  "language_info": {
   "codemirror_mode": {
    "name": "ipython",
    "version": 3
   },
   "file_extension": ".py",
   "mimetype": "text/x-python",
   "name": "python",
   "nbconvert_exporter": "python",
   "pygments_lexer": "ipython3",
   "version": "3.11.7"
  }
 },
 "nbformat": 4,
 "nbformat_minor": 5
}
